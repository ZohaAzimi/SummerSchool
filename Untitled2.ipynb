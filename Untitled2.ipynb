{
 "cells": [
  {
   "cell_type": "code",
   "execution_count": 1,
   "id": "b369104b-3580-49d4-a106-eb2916e3dda0",
   "metadata": {},
   "outputs": [],
   "source": [
    "import multiprocessing\n",
    "import time"
   ]
  },
  {
   "cell_type": "code",
   "execution_count": 2,
   "id": "07dc46f0-8e53-425f-bce1-7b612c8431f5",
   "metadata": {},
   "outputs": [],
   "source": [
    "def print_square(num):\n",
    "    for i in range(num):\n",
    "        j = i * i"
   ]
  },
  {
   "cell_type": "code",
   "execution_count": 3,
   "id": "837efdb6-cbc7-4184-9255-753b0270b430",
   "metadata": {},
   "outputs": [],
   "source": [
    "def print_cube(num):\n",
    "    for i in range(num):\n",
    "        j = i * i * i"
   ]
  },
  {
   "cell_type": "code",
   "execution_count": 4,
   "id": "848feb24-efce-40cc-aca0-f360bf0677f2",
   "metadata": {},
   "outputs": [
    {
     "name": "stdout",
     "output_type": "stream",
     "text": [
      "Execution time: 10.259260892868042\n"
     ]
    }
   ],
   "source": [
    "\n",
    "start = time.time()\n",
    "print_square(100000000)\n",
    "end = time.time()\n",
    "\n",
    "print('Execution time:', end-start)"
   ]
  },
  {
   "cell_type": "code",
   "execution_count": 5,
   "id": "ee9501ad-5973-4ccc-8148-e0728910feb0",
   "metadata": {},
   "outputs": [
    {
     "name": "stdout",
     "output_type": "stream",
     "text": [
      "Execution time: 19.143693923950195\n"
     ]
    }
   ],
   "source": [
    "\n",
    "start = time.time()\n",
    "print_cube(100000000)\n",
    "end = time.time()\n",
    "\n",
    "print('Execution time:', end-start)"
   ]
  },
  {
   "cell_type": "code",
   "execution_count": 6,
   "id": "7058216f-b4de-46e3-a01d-4382e44d0382",
   "metadata": {},
   "outputs": [
    {
     "name": "stdout",
     "output_type": "stream",
     "text": [
      "Execution time: 19.64921998977661\n"
     ]
    }
   ],
   "source": [
    "\n",
    "p1 = multiprocessing.Process(target = print_square, args=[100000000])\n",
    "p2 = multiprocessing.Process(target = print_cube, args=[100000000])\n",
    "start = time.time()\n",
    "p1.start()\n",
    "p2.start()\n",
    "p1.join()\n",
    "p2.join()\n",
    "end = time.time()\n",
    "print('Execution time:', end-start)"
   ]
  },
  {
   "cell_type": "code",
   "execution_count": null,
   "id": "801428cc-43d3-40f1-9332-4c4a8b50b08f",
   "metadata": {},
   "outputs": [],
   "source": []
  }
 ],
 "metadata": {
  "kernelspec": {
   "display_name": "Python 3 (ipykernel)",
   "language": "python",
   "name": "python3"
  },
  "language_info": {
   "codemirror_mode": {
    "name": "ipython",
    "version": 3
   },
   "file_extension": ".py",
   "mimetype": "text/x-python",
   "name": "python",
   "nbconvert_exporter": "python",
   "pygments_lexer": "ipython3",
   "version": "3.10.10"
  }
 },
 "nbformat": 4,
 "nbformat_minor": 5
}
